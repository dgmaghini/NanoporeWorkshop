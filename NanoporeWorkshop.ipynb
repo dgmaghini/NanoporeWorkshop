{
 "cells": [
  {
   "cell_type": "markdown",
   "metadata": {},
   "source": [
    "# Nanopore Sequencing Data Analysis"
   ]
  },
  {
   "cell_type": "markdown",
   "metadata": {},
   "source": [
    "Welcome to Jupyter Notebooks! Jupyter is an excellent way to get started with interactive programming. Here, we're running a notebook using the coding language R. \n",
    "\n",
    "Jupyter notebooks contain blocks of text, like what you're reading now, and blocks of code in grey, like the code underneath this paragraph. You can run each block of code by clicking on it and hitting Shift-Enter, or the Play button. Give it a try here:"
   ]
  },
  {
   "cell_type": "code",
   "execution_count": null,
   "metadata": {},
   "outputs": [],
   "source": [
    "#this is a block of code\n",
    "print(\"Hello World\")"
   ]
  },
  {
   "cell_type": "markdown",
   "metadata": {},
   "source": [
    "As you can see, any line of code that beings with a `#` is ignored. \n",
    "\n",
    "Before we begin, we'll run the following code block to install a package that we need for our analysis."
   ]
  },
  {
   "cell_type": "code",
   "execution_count": null,
   "metadata": {},
   "outputs": [],
   "source": [
    "install.packages(\"ggplot2\")\n",
    "library(ggplot2) "
   ]
  },
  {
   "cell_type": "markdown",
   "metadata": {
    "tags": []
   },
   "source": [
    "## Understanding Nanopore Sequencing Files"
   ]
  },
  {
   "cell_type": "markdown",
   "metadata": {},
   "source": [
    "To start, we will get familiarized with the data that are output from a nanopore sequencing run. Let's get familiar with the reads themselves! In your folder of workshop files, you should see a file named `SRR10015224_1_500_reads.fastq` . You can open that file in any text editor app (TextEdit, Microsoft Word, etc.), or double click on it to open it in your browser.\n",
    "\n",
    "Let's take a look. I've copied and pasted the first four lines of the file here. As you can see, each line is quite long.\n",
    "\n",
    "*Note: you can't execute this code block, since it just contains pasted text*"
   ]
  },
  {
   "cell_type": "code",
   "execution_count": null,
   "metadata": {},
   "outputs": [],
   "source": [
    "@SRR10015224.1 1/1\n",
    "CGCTGCGGATTGTGGCTGGATTAACATCGCTTTGGCGTCACTGGCATTATTGCCACATTTGTGGTGCCCCGTGAGGGACCAATGAACACGCCGGTGTGGCAAACGAGAGCTATAAAGTCTTTTGTGCACGGTCGATTTTTCGCTGGGCATTTTTTCGGCTGGTACACCTTAACAAACGTCGAAAAGACACGGCCTTTTGCCGCGCTTTGCCCGCTGGGGCTGTGCTGGTAAGGATTTTCAATTCCTGACAGAGTTATGGAAGGAAAACATCCGCAATTTTTTGTCGAGATGACACAAGAATCACTTCAGCCAAGCCGCTATATTCTTACTGATAGCGTCGGTGTTGCCGCAGGTCTGGCATGGAGCCTGCAACGCGATGACATCATCATGTATCGCCAGACAGGTGAGTTGAAATACGGCCTTAATTATCCGGATGCGAAAGGAGATTTGTCAGCGGTGATGAGTTCGCAAACTGGCTTAATCAGCATCGTCGGGGAGGATTATTGCTCTCGTGCTTTCCGGTTATTTTGATGAAGATATCAACAGTCTCGCCATTCCGCCCGCAGATGCCATCGATCGTCAGGAGCGTCTGAATTGCTGATTCAGTATCGTCCCAAATGATCTGGCTAACATTAGTCTTTGCCAGCTTGTAGCGATTGCCAGCGGGCAGTTTGTGTCAGAAACAGGCAACCTGCTTTGTGGCATAGCGCAAACATATCGTGCTGTGGCTGGGACTGGCGCTGGCTTGTCTTGGTGCTTGCCATGGTGCTCTGGCTGCTGGTCTTGCAAGAACGTACCGGTAGGCATTGCTTACCCGATGTTAAAGTCTGAATTTTGTCTGGGTGACGCTGGCTGCGAGTAAAACTGGCACGAACCGGTATCATCGCGTCACTGGTGTGGGGTGGCGTTCATTATTGGCGGCATTGTGATCCTCGAGGGTACGGTGTAATGGGCCTGATGTGGGGATTATTCAGCGTCATTATTGCCTCAGTTGCTGCAATTAAGCCTGGGTTTTGCGGCGAGTCGTCTGCAGCCGATGACACTTATGGGATTTTATCGGCTCCTGATGATGGCTTTTACGGATGCTTGCGGATACTGTTACTCGGGCTGCTGGGTTATCTGCTTTCGTTTTTGTTGGTATAAAACGCTTCATAAACTTGCGCTAAGCAAAGCCTATGCCTTGCTCAGTATGAGTTATGTGCTGGTATGGATTGCTTCAATGGTACTTCCCGGCTGGGAAGGGACTTTTTCGCTGAAAGCACTACTGGGGTAACCGCAGCGTATGAGCGGGTTGATGCTGATTTTCCTGCACCCACGACAAAACAACGTTACTGAGTTTTTCCTGCCACTTTACACTGCCGTTCCCACTCGTAGATATAACTGCTTGCCGAGAGGACTTTCCGTATGCAGCTTTTCACGATTAATACAATAAAGCGCATTCTGCCAAAGGCGATAAATCCCACTTTCACGGCGATCCTCTTCACTTCGGCGATCATTTTTATCGCGCCGCCAGCATCGCGAACATAAGTACATGTCTGTTATGTTGTTTATTGCCTTTGATTTTTGACCAGCATTCCATTGCATTATCCTGTTTGCTAAGAGTTTTCACATCAATTTACAGATTAACAGATAACTCTTTATCAACGGCAATGGAATGGCAGAAATAATTGAAACGGAGGGTTAATTATTGCCGCTGACGTTACCCACTCTTTTAGCGCCTGACGTGAAATTTTAATACCGCCGTTTTCAGCTCCAGCGGCAGAGTTAGCCAGCGCACCGGTTGTTGAAAACGGGCCAACATCTTTCACCCATTCGATCAACGCTCTCGTGGTGCCACTCCCATCACCGCCACCGGTCGATGACCAAACTCCTTGTCGGCAACGGGGACGGATAAACACCTGCAAAACCACCCGGGATGTGTGCAGCAATTACGCGCTCGACTTCTTCCGGCTGAATACCCTCTCCGCCACTGAAGAATAGATTGTCTAAACGTCCGACAATGGTCAGCTTGCCATTATGCATCTCACCGCGATCGCGCGTAGCGTACCAGCCTTCGTCATTAACCAGTGAAACCAGTTGCCCGTTACGCCGGTAACCTTCTGCCGCTGGCGACCCGCAATACACTTCATTATTAACGATTTTCGCTGACCCGGCAGCGGCGAATAAAGCGTCCTGCCGGTCGTCGAAGCTTCTTTCGCACACACCGTGGAGAGCAAACTCGGACCATAGCCGCAAAACAGCGAATCCCCTGCTCGCGCCTGTTCCGTCAACTCGGCCGGGATAGCCGCGCCGCCAAAAATAACACCGCTTTCGGGAAACGGAACTACGGTTAACCAGCAAACGCCAGAGTTGTGTTGGCACCAGTGAAGCGTGAGTACAGCCTGCCAGCATTTGCTCAATGGCTGTTTATCCGCATCCGTCATCCGCGCAGCGTATAACCAACGCCACATAATTCCCTGACCGGAGACGTGAAACAGCGGTAAAGAGAGCAACCAATCATCGTGATCGCCAAACGGAATCAGCGATAACACACCTTGCGCACTGGCAAGATGGGCCTGATAGTATGGTTAGCGGCTTTCGGCAAACCGGTAGAACCCGGAGTCAGCGTCGTGAGCACAGACGCGTCGGCTGCCACGTAGCGGCATGTGCGCCTTCAGCCAACTGAATGTGCAGCGACGTTAATGCCGGAAACGTGTTTTCCCATCCCGGCACCAGAGCAAATTGCGGCGTCAGATTGGGCAGCAATTCTTCAAGCAACGGTTGCGGCAGCTGAGGGGTTACGAACACCGCGCCCGCATTGCAGTAACGCCAGCGGGCGAGCAGCGTTTGCGGCACGTATTCCGCCCGCAACATCACGCCGCTGCCCTCAGCCACCTGCACCGCAAATCCGGGCTAATTCTGTCGAGCACAAAGCTCGCGCCAGTTGGTGCTCGTCATTGAACGTAAGGCGATGGTTTCTCCCGCGCGCCGCCAGTGACGCCACGGCCAGTCAGAAGATCGCCAACAACCGCTCCAGTGCATCAACTTCCGCGACGGGCAGCGTGCTACCCGGCCAGCGACGTACCTGCTGCGCCTGCATCAGATCCAGCGTGTCCAGCCACGGAATGGTGTCCGGCGTTAACCGGGCGTCCGCGCCAGTTGCGCGTTAAGCCTAGCTCGATTCAATGGAAGAACTGATCACCGCCGTCAGCCCAGCGCGTGCGCCGCCTGTACCTGCTCGCGTACTTTTTCCAGACTGCCCGTGAGCGTGGGTTTGATAACTACCGCGCGCACGCCCTCTTCAGCACAAAAATCCGGCTCGCGCAGGCTTTCATCGGGCAATGGCAATGCCGGTTTCGAGCAAACGCTCGCGAATCATCGCGGGTTTTGCACGGCTCTTCGAAGAAACGCGATGCGGTCGCGATAATCCGGGTTAACGTATTTGGCAAACTGCTGACCTTTTCCAGCGGTGTCCGGGCGCGATTTGCGTCAGACGCAAATGCGGATCCGGAATTGCCTCCAGCAACAGATTCCTGCACCATGCCGTCGCGCACCGCTTCGTACAATCCACTTTGACCTTCTTACTTTCTCGCACGGCATATCTACCAAGTTTGAGGATCAAGATCGTCGGATCGCCATTACAGCGGTGCCGCACGGTAGTTGGCTGCTTGCGGCAACGTATCTGTCAGTTCTGCCAATGCACAGCTTACGCCAAAAAGGCCACGGGGCATCTGCGGTAGCTCGCAATCGCCTGCCAGCCAGTTATTTACCGGGCAAGCAGCACACTTTGCGCCTCTTCGGGTTCTGACTGAAGCCCGGCGGTGGGAGATCTCCCCACCCTTCGCGCTCGCCTTCGCAGGCAAACATACAGCCCGTCGCGGGTTTTAACCGCCTGTCACGCAGAACCACCCGCGTCCATGGGATCTGCCAGCGGTAGCCTGCGCGCTACGCATTACGGATTCCGTTTGAATTTGCTGAAGTCAGGCTGACGTTTCTGGTTGAAGGCGTTGCGACCTTCCTGACCTTCTTCCGTCATGTAAAGAACAGCATGGTGGCGTTGCCCGCCAGCTCCTGCAGCCCACCGCGTCACAAATCGGCGTTCAGTGCAGCTTTCAGGCAGCGCAGCGCCATCGGGCTGTTTTGCAGCATTTCGCGGCACCAACGGACGGTTTCTTTCCAGATCCGCCAGCGGTACCACGGTGTTCACAAGGCCCATATCCAGCGCCTGTTTTTGCGTCGTACTGACGGCACAGGAACCAGATTTCACGCGCTTTCTGCCCAGCGATGCGAGCCATGTAGGAAGCGCCCCAGCCGCCAAATCGAAGGAACCGACTTTTTCGGGCCAGTCTGACCGAATGGCATTATCTGCCGCGATAGTCAGGTCGCATCATGTGCAGAACGTGACCGCCGCCGATGGAAGTAACCAGCCACCATCGCGACAACCGGTTTTCGGACAGGTACGGATCACGACGCTGGAAGTCCAGCACATTCAGGTATGTACGCCGGAATGTCTTTATAGCCACCGTAATCACCACGCACTTTGCAATTCACCACCGGGCAGAACGCTTTATCGCCTGCACCAGTCAGAATGATCGCGCCGATGTTGTCGTCATAACGCGCATCTGCCAGCGCACCGGATCATCTCTTTTTACCGTCAGAGGACGGAAGGCATTGCGCACCTGCGGACGGCGATTAATGGTGATTTTTGCGATGCCGTCGGTGGATTTTCATAACGAATGTCCTCGAAACCTTCGAACGTCGTGCCATTCGAAGTGCGTAAAGCATTGCTTCATCAGGATAAATCATATTGTGTCGCTAGTCAGAAACGCAAGATCTGCGCCAGACTTGCGATTACGCCAGCCGGGATTTTTTCCGATGCGCGTTATGTCCGGCGCGAGGAATTGACGCCTTGGCGGTCGGCAGCCGGTTCGCCGCCCGAGGGGCGCGGAATTTGCTGTCACGTTCACCACATAAATAAAACGCAAATGTGCGGGCGCTAAGGTTAGCACGTAAAT\n",
    "+\n",
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`X9+-##'00'##*?EDBDE**,/-+/01345//+BE@K/;=BBJR.%%%,-&%%-%))<=IM?=?A@H>>40(&\"+,&&%9044*%)%:3:/'+69=65@DGCGD6>;JBB:M;&.'%<6E;49>:M%3,-'#&%%%L>EE?84:G0:81)#56.03-,0&%%%)6GDP@A,:.'-->&@FF7689A@DFJ??A@CJOAJJCW<G7;DA@AA?7753%85/01915>>>7J7;>0FJC=3F:$$+9?=F)-*@AB=*&&/1GM?/?D52-*)=E:<A3I-?584..<?>K>BD2.((\"#''&++5-1(5962-;;<=-%%.+B059H?<46-34377633@AFCE:?FE4--,-)).7+>)6541999>;7F/08WVEHHB@;#)<6#55','(625MJ4?GF8:;:5,-8:=>8:3$#.16&+.,1+,)-@C>2+:@;,>414&9-66C@CO667*+G@G@KB9A<<:55;@B;6/BE1%$++-('('').>FLAGU>9@CEH7.6/L946(00-3#\"$>5<@.>*;LI>N*==>;81G5,\"\"%#$&5BI**.2()6=>28GA:NI137<=>=9;9;;9)<-7.*(+.-EA*752-C*+:((A58>9<=%%F:01/),+D=OEH;@A88L06CKLA40-)&(+/,56815CII,>,;)&($<TO=8'%%\"()F4ILEGAKQ=7E4=G6484*9<AL7JLDM?/+G8AA<4.H029=A@B6O5:<9%%,39<7/-=ND=FGK44=31+37-./AGDYU?=<=39*(((4JHJN;4/>4&*2FO<6?<=<D;=\\UJDKD/,$#\"\"'$)8:>:<E6GC:1,7.''((+,8DR8,L,(,79FCCAAC:2'.(1*'<;+'&22;?233@AE637<FFH1:@&&'-GDGD-,--.07EB=XDI*((#2;A@GIO:>>>??:8@URHDND89=6;<KOJJ:;HKBC+C95@CE43757B/:-8=DE#?-?EMFGA##?.+*15:C;<=93M2$+)+.6+%6:<53&&,6$$5--..2::ID67?843<2235A1D)-))(+>>>E=@A<AKEB??DLJ1))37'AAAIC..4####.BII-<:0-/+&'2640E3***170@DDDJ,))/$*2,.)10'//*20)-,**##3/A:9->BA.=>*24J6;<G>M+?>?GKNCJL589:665245;<<>=J>>@<42C7.'>$(-<4E@SRLNI-$%&'%\"$$7=2:,GI;*&9A?-/..(%087?EK388=>G9=?=+()$+43ABB4QMMIK<;:;L../7*+'&,/-./&**,-./.-03CH=;H-EKM/K,,*4*5@?=BEQNC>MJ7;+(,2546/47696</JJ?,DA'&0E=%;7=@?PNZ?H(&&+6=763)),,12+GCF>H1DMDB=?AH=A<NB;ED>A,0$(009=><*)%;;5,9CCDT901560/4@AGE?<9B6::,21$+5722-9E:7//+0;54;8;M396$B-;9:;>OG69C:;96:'1111@$59IM@?8HHOI=:?16BA39.AC521;>)/+<AB7BEIEE)F@=J####0($#%@AC+,,-.A;GJ?B7I;XPF25:;;>;&C>>99'CBA/1(()-5E'$$((3<<DAEP8?(3I723NT[`/2'8;7=<7<CD;08=>...((2>@04?I<>99CBFLLHPBEA/567?H43.H=;::%EHFOL?0>')657D>>?7;22001'*,27AF;E5B1/353<A><0:<++K@F??E:9?RORP)16ACP@H@9&0A::2+033==GB-,%%59A6F,+/)*+.563(')('&3<EE?@=A=BNM0/-)/1?51,6.(\"$$$1CC00/),,8D;;ALKB=M88>URRNL-E+)>B?>?AE7K<>6,%&04:66682./)()&:38=:;8>G#4>87634BJ789:61102G9><GHIK=NOGUJ:9@@?-'.49&@A#8<71==>H:>9>D?HDRS?B7CO,B17/%%/<<;77<2.:#$./<>?CD)5<3((+*.*+167-B%).''\"#*)@ET+>=+1*&22*:)109&7*&FJ@BHFA<)?EA6-$%$$$&#$%'&)87<63;;/-@DE6GO=CPQQT?=@22*($$441+2,/,113./630/5@UPD&<?/.60G?=1)(,6258;=<DIGDLOI?:3.-'*/9449:>ADCBNFBA/JD.4>3725K:&%)\"\"5700.63).2:IBEA99*%\"$%07BIOFE==A49K0ROH:@442+$,8;8KOADA94::4*6$$+*%$&19;881-(4>@GJET0=+*:9-4(=::JI=B<+.-%8IFDIKM;76<===.7LCJ2(=',-<89=@?C/%%%&'%'&0&'3)21G((#+B777653=97?:\"+A+GHIJPI;DG2AH6=>>;</,'+/F?;LMNQF:>-9HLI<6@DL?D<..,-,)122**-%$\"%2>%%$\"\"&<B((/EMB/$$5:1'(C-9,<=3N@74$*,0)7==62,,&.D6<)62F9:D7S:7OJ*#&%00.-4HI720@+++77C@IAAC=D::=01'/%99897=D\\X71"
   ]
  },
  {
   "cell_type": "markdown",
   "metadata": {},
   "source": [
    "**Question:** What do these four lines represent? Take a look at the documentation here: https://en.wikipedia.org/wiki/FASTQ_format"
   ]
  },
  {
   "cell_type": "markdown",
   "metadata": {},
   "source": [
    "## Understanding Nanopore Sequencing Summary Statistics"
   ]
  },
  {
   "cell_type": "markdown",
   "metadata": {},
   "source": [
    "Now, let's look at the summary statistics file. In your folder of workshop files, you should see one named `sequencing_summary.txt`. Upload that file into your Jupyter Notebook. \n",
    "\n",
    "Once your file is uploaded, we can take a look at the first few lines.  "
   ]
  },
  {
   "cell_type": "code",
   "execution_count": null,
   "metadata": {},
   "outputs": [],
   "source": [
    "# create factors with value labels \n",
    "read_summary <- read.table(\"InputData/sequencing_summary.txt\", sep = \"\\t\", header = TRUE)\n",
    "head(read_summary)"
   ]
  },
  {
   "cell_type": "markdown",
   "metadata": {},
   "source": [
    "**Question:** From looking at the top few lines of this table, what do you notice? What do you think each row represents? "
   ]
  },
  {
   "cell_type": "markdown",
   "metadata": {},
   "source": [
    "We can look at this file another way. R has a command called `summary`, that will provide us with some summary statistics about this table. "
   ]
  },
  {
   "cell_type": "code",
   "execution_count": null,
   "metadata": {},
   "outputs": [],
   "source": [
    "summary(read_summary)"
   ]
  },
  {
   "cell_type": "markdown",
   "metadata": {},
   "source": [
    "Now, let's take a look at the most important columns. We will explore: \n",
    "\n",
    "*  the lengths of our reads\n",
    "*  the quality of our reads\n",
    "*  the proportion of our reads that passed our filtering metrics\n",
    "\n",
    "\n",
    "To start, we'll do some plotting using a handy plotting tool called ggplot2. If you're interested, you can find lots of excellent documentation for ggplot at http://www.sthda.com/english/wiki/ggplot2-essentials."
   ]
  },
  {
   "cell_type": "markdown",
   "metadata": {},
   "source": [
    "Since this is a long read sequencing experiment, it's only fitting that we look at the lengths of our reads first! Here, we can make a histogram of the data in our `read_summary` table, where the x axis is the sequence length. "
   ]
  },
  {
   "cell_type": "code",
   "execution_count": null,
   "metadata": {},
   "outputs": [],
   "source": [
    "ggplot(read_summary, aes(x=sequence_length_template)) + \n",
    "  geom_histogram(bins=100) +\n",
    "  theme_bw() + \n",
    "  ylab(\"Number of Reads\") + \n",
    "  xlab(\"Read Length (bp)\")"
   ]
  },
  {
   "cell_type": "markdown",
   "metadata": {},
   "source": [
    "**Question:** What is the x-axis of the plot above? What is the y-axis? What, roughly, is our mean read length?"
   ]
  },
  {
   "cell_type": "code",
   "execution_count": null,
   "metadata": {},
   "outputs": [],
   "source": [
    "# we can confirm our mean read length programatically, too!\n",
    "mean(read_summary$sequence_length_template)"
   ]
  },
  {
   "cell_type": "markdown",
   "metadata": {},
   "source": [
    "Next, we can look at the quality of our reads. To describe quality of reads (both for Illumina and Nanopore sequencing), we use a metric called a Q-score. A Q-score, or Quality Score, describes the probability that a base was called incorrectly. Based on the table below, we can see that if a base has a Q Score of 10, there's a 1 in 10 chance that it was called incorrectly. Conversely, a base with a Q Score of 50 has a very low chance of being incorrect. \n"
   ]
  },
  {
   "cell_type": "markdown",
   "metadata": {},
   "source": [
    "![QScore](Images/QualityScores.png)"
   ]
  },
  {
   "cell_type": "markdown",
   "metadata": {},
   "source": [
    "**Question:** What do you think a typical Q score is for:\n",
    "* Sanger sequencing?\n",
    "* Illumina shotgun sequencing? \n",
    "* Nanopore sequencing? "
   ]
  },
  {
   "cell_type": "markdown",
   "metadata": {},
   "source": [
    "For nanopore sequencing, we can find out! Let's take a look at the distributions of mean Q scores for all of the reads in our dataset. "
   ]
  },
  {
   "cell_type": "code",
   "execution_count": null,
   "metadata": {},
   "outputs": [],
   "source": [
    "ggplot(read_summary, aes(x=mean_qscore_template)) + \n",
    "  geom_density() +\n",
    "  theme_bw() + \n",
    "  ylab(\"Portion of Reads\") + \n",
    "  xlab(\"Read Quality Score\")"
   ]
  },
  {
   "cell_type": "markdown",
   "metadata": {},
   "source": [
    "Nanopore sequencing is much more error prone than other sequencing methods. One step that is best practice is to filter out reads that have low Q scores. When this dataset was basecalled, we checked to see if each read was above or below our quality threshold. Let's see how many of our reads passed our filtering:"
   ]
  },
  {
   "cell_type": "code",
   "execution_count": null,
   "metadata": {},
   "outputs": [],
   "source": [
    "ggplot(read_summary, aes(x=passes_filtering)) + \n",
    "  geom_bar() +\n",
    "  theme_bw() + \n",
    "  ylab(\"Number of Reads\") + \n",
    "  xlab(\"Above Filtering Threshold\")"
   ]
  },
  {
   "cell_type": "markdown",
   "metadata": {},
   "source": [
    "We can formalize this by quantifying the portion of reads that passed filtering:"
   ]
  },
  {
   "cell_type": "code",
   "execution_count": null,
   "metadata": {},
   "outputs": [],
   "source": [
    "sum(read_summary$passes_filtering == TRUE) / nrow(read_summary)"
   ]
  },
  {
   "cell_type": "markdown",
   "metadata": {},
   "source": [
    "## Analyzing Our Nanopore Data"
   ]
  },
  {
   "cell_type": "markdown",
   "metadata": {},
   "source": [
    "Let's start solving some problems!\n",
    "\n",
    "**Hypothetical scenario:** Hospital Patient A has recently developed a fever, increased heart rate, and has experienced a drop in blood pressure. Doctors think the patient is showing signs of sepsis (bloodstream infection). Sure enough, from a blood sample, clinical researchers have isolated an unknown microbe. They decided to perform nanopore sequencing to quickly identify the microbial pathogen and its antimicrobial resistance profiles to guide their treatment decisions. The reads from this microbe are in the same `SRR10015224_1_500_reads.fastq` file that we were looking at above. "
   ]
  },
  {
   "cell_type": "markdown",
   "metadata": {},
   "source": [
    "The questions that they'd like us to answer are:\n",
    "* What organism is this?\n",
    "* Is there anything they should be aware of about its genome structure?\n",
    "* What is its antibiotic resistance profile? "
   ]
  },
  {
   "cell_type": "markdown",
   "metadata": {},
   "source": [
    "**Part 1:** What organism is represented in these sequencing reads? There are a few ways we can find out. "
   ]
  },
  {
   "cell_type": "markdown",
   "metadata": {},
   "source": [
    "1. While there are complex bacterial classifiers out there, let's start simple. What happens if we BLAST some of our sequencing reads? Copy the nucleotide sequence of the first read from the SRR10015224_1_500_reads.fastq file and paste it into the search bar at [NCBI BLASTn](https://blast.ncbi.nlm.nih.gov/Blast.cgi?PROGRAM=blastn&PAGE_TYPE=BlastSearch&LINK_LOC=blasthome). What results come up?"
   ]
  },
  {
   "cell_type": "markdown",
   "metadata": {},
   "source": [
    "2. If we'd like more confidence in these results, we can look at a hallmark bacterial gene: the 16S rRNA sequence. This region is frequently used to identify microbial lineages. After annotating reads that contain a 16S rRNA sequence using a tool called [barrnap](https://github.com/tseemann/barrnap), the rRNA sequences are in a file called rrna.fa. Copy one of those sequences into NCBI BLASTn. Make sure to change the \"Search Database\" to \"rRNA/ITS databases\" and select 16S ribosomal RNA sequences. What hits come up? "
   ]
  },
  {
   "cell_type": "markdown",
   "metadata": {},
   "source": [
    "3. With an Oxford Nanopore Account, you can use EPI2ME for real-time classification of sequencing reads as they are basecalled directly from the MinION!"
   ]
  },
  {
   "cell_type": "markdown",
   "metadata": {},
   "source": [
    "**Part 2:** What is the genome structure of this microbe? "
   ]
  },
  {
   "cell_type": "markdown",
   "metadata": {},
   "source": [
    "We can assemble the reads of this microbe using tools designed specifically for the assembly of long-read sequencing data. In your files, you will find a file called `assembly.fasta`, that contains the Flye-assembly for this organism. Open up the file.\n",
    "\n",
    "**Question 1:** In an assembly, reads are overlapped and joined to form contiguous sequences, or 'contigs'. How many contigs are present in our assembly? "
   ]
  },
  {
   "cell_type": "markdown",
   "metadata": {},
   "source": [
    "**Question 2:** Very helpfully, Flye gives us additional info on our assembly. Open up `assembly_info.txt`. How long is each contig? What do you think these contigs represent?"
   ]
  },
  {
   "cell_type": "markdown",
   "metadata": {},
   "source": [
    "**Question 3:** We can use plotting tools to visualize our assembly. Take a look at the assembly visual for our microbe of interest. Each colored bar represents a contig. Contigs that are in a circular shape and connected with a gray line are circular sequences. What do you think the largest contig represents? What do the smaller contigs represent? ![AssemblyGraph](Images/Assembly_Coverage.png)"
   ]
  },
  {
   "cell_type": "markdown",
   "metadata": {},
   "source": [
    "**Part 3:** What antibiotic resistance genes are present in this genome? "
   ]
  },
  {
   "cell_type": "markdown",
   "metadata": {},
   "source": [
    "Let's look at each of the smaller contigs in our assembly. We can use publicly available tools, like the Resistance Gene Identifier and Comprehensive Antibiotic Resistance Database, to annotate our FASTA files for possible antibiotic resistance genes. "
   ]
  },
  {
   "cell_type": "markdown",
   "metadata": {},
   "source": [
    "**Question 1:** Pick one of the contigs in the `AssemblyContigs` input folder to investigate. Recall that Contig1 represents the larger sequence, while contigs 2, 3, 4, and 5 are smaller sequences. Go to the [CARD/RGI Interface](https://card.mcmaster.ca/analyze/rgi) and upload your sequence. What antibiotic resistance genes can you find? "
   ]
  },
  {
   "cell_type": "markdown",
   "metadata": {},
   "source": [
    "### Bonus Section (Time Allowing): Read Alignment"
   ]
  },
  {
   "cell_type": "markdown",
   "metadata": {},
   "source": [
    "Frequently, it's helpful to be able to closely inspect how reads align to a reference genome or genome assembly. Visualizing read alignments can show us how confident our read mappings are, whether there are obvious structural variants (insertions, deletions) relative to a reference genome, whether there are areas of unusually high or low coverage in our genome, and whether there appears to be strain variation or a subpopulation in our sample. \n",
    "\n",
    "We can use genome browers like the Integrative Genomics Viewer (IGV) to inspect our files. \n",
    "\n",
    "Let's get oriented to IGV. \n",
    "\n",
    "1. Open up IGV in your web browser via [this link](https://igv.org/app/). \n",
    "2. Load our genome assembly into IGV. Click the dropdown menu next to \"Genome\" and click \"Local File...\". Navigate to your workshop files, and select both `assembly.fasta` and `assembly.fasta.fai`. \n",
    "3. Load our reads into IGV. Click the dropdown menu next to \"Tracks\" and click \"Local File...\". Navigate to your workshop files, and select both `read_alignments.bam` and `read_alignments.bam.bai`. \n",
    "4. Click the white box next to \"IGV\" that says \"all\". Select \"contig_5\". \n",
    "\n",
    "Now we're in IGV! Your IGV window should look like the image below. ![IGVOverview](Images/IGV_Contig5.png)"
   ]
  },
  {
   "cell_type": "markdown",
   "metadata": {},
   "source": [
    "This IGV window is representing a lot of information. Along the top, we see a ruler indicating the genome range that we're currently visualizing (positions 0-18 kb in contig 5). Beneath, we see a bar chart indicating the number of reads that cover each position in the genome. In the bottom portion, we can see all of our nanopore reads aligning against this portion of the genome (horizontal grey bars with multicolored stripes). \n",
    "\n",
    "Let's zoom in so we can take a closer look. In the top bar that currently reads \"contig_5:1-18243\", we can specify a smaller range. Try typing in \"contig_5:450-550\" and hitting `Enter`. Now, you should have a visual similar to what is pictured below: ![IGV_Detailed](Images/IGV_Detailed_View.png)"
   ]
  },
  {
   "cell_type": "markdown",
   "metadata": {},
   "source": [
    "Here, the different regions of the IGV window are highlighted. \n",
    "* In the top in red region, we see a map of the current contig in our assembly, where the tiny red box indicates our current view. \n",
    "* In orange, we see the DNA bases that make up the current region that we are visualizing\n",
    "* In blue, we see a graph of the total number of reads that are covering each base\n",
    "* In green, we see the reads. Each read is represented as a horizontal gray bar. "
   ]
  },
  {
   "cell_type": "markdown",
   "metadata": {},
   "source": [
    "**Question 1:** What do the vertical purple lines on the reads represent? Click on them to learn more. \n",
    "\n",
    "**Question 2:** What do the thin horizontal black lines on the reads represent? \n",
    "\n",
    "**Question 3:** What do the colored letters on the reads represent? \n",
    "\n",
    "**Question 4:** In the Coverage plot, why are there two positions that are colored orange and green? "
   ]
  }
 ],
 "metadata": {
  "kernelspec": {
   "display_name": "R",
   "language": "R",
   "name": "ir"
  },
  "language_info": {
   "codemirror_mode": "r",
   "file_extension": ".r",
   "mimetype": "text/x-r-source",
   "name": "R",
   "pygments_lexer": "r",
   "version": "4.1.2"
  }
 },
 "nbformat": 4,
 "nbformat_minor": 4
}
